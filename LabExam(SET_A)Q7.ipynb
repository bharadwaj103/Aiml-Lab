{
  "nbformat": 4,
  "nbformat_minor": 0,
  "metadata": {
    "colab": {
      "provenance": [],
      "authorship_tag": "ABX9TyNRvse3oaq8MMxAeyku1xJo",
      "include_colab_link": true
    },
    "kernelspec": {
      "name": "python3",
      "display_name": "Python 3"
    },
    "language_info": {
      "name": "python"
    }
  },
  "cells": [
    {
      "cell_type": "markdown",
      "metadata": {
        "id": "view-in-github",
        "colab_type": "text"
      },
      "source": [
        "<a href=\"https://colab.research.google.com/github/bharadwaj103/Aiml-Lab/blob/main/LabExam(SET_A)Q7.ipynb\" target=\"_parent\"><img src=\"https://colab.research.google.com/assets/colab-badge.svg\" alt=\"Open In Colab\"/></a>"
      ]
    },
    {
      "cell_type": "code",
      "execution_count": 5,
      "metadata": {
        "colab": {
          "base_uri": "https://localhost:8080/"
        },
        "id": "rkbqBJD4YSdG",
        "outputId": "6d309fef-61c6-4cbe-b0ab-b81327a4d468"
      },
      "outputs": [
        {
          "output_type": "stream",
          "name": "stdout",
          "text": [
            "Max Sound: 3.84\n",
            "Min Sound: 0.04\n",
            "Max Light: 280\n",
            "Min Light: 0\n",
            "Date and Time when occupancy was Maximum: ('2017/12/22', '12:30:16')\n",
            "Most suitable Temperature for High Occupancy: 26.009268805891637\n",
            "Suitable CO2 Range: (360, 1270)\n",
            "Unsuitable CO2 Range: (345, 1255)\n"
          ]
        }
      ],
      "source": [
        "import pandas as pd\n",
        "data = pd.read_csv(\"Occupancy_Estimation.csv\")\n",
        "\n",
        "high_occupancy = data[data['Room_Occupancy_Count'] > data['Room_Occupancy_Count'].median()]\n",
        "max_light = high_occupancy[['S1_Light', 'S2_Light', 'S3_Light', 'S4_Light']].max().max()\n",
        "min_light = high_occupancy[['S1_Light', 'S2_Light', 'S3_Light', 'S4_Light']].min().min()\n",
        "max_sound = high_occupancy[['S1_Sound', 'S2_Sound', 'S3_Sound', 'S4_Sound']].max().max()\n",
        "min_sound = high_occupancy[['S1_Sound', 'S2_Sound', 'S3_Sound', 'S4_Sound']].min().min()\n",
        "\n",
        "max_occupancy_row = data.loc[data['Room_Occupancy_Count'].idxmax()]\n",
        "max_occupancy_date_time = (max_occupancy_row['Date'], max_occupancy_row['Time'])\n",
        "\n",
        "temperature_cols = ['S1_Temp', 'S2_Temp', 'S3_Temp', 'S4_Temp']\n",
        "suitable_temperature = high_occupancy[temperature_cols].mean().mean()\n",
        "\n",
        "low_occupancy = data[data['Room_Occupancy_Count'] <= data['Room_Occupancy_Count'].median()]\n",
        "suitable_co2_range = (high_occupancy['S5_CO2'].min(), high_occupancy['S5_CO2'].max())\n",
        "unsuitable_co2_range = (low_occupancy['S5_CO2'].min(), low_occupancy['S5_CO2'].max())\n",
        "\n",
        "print(\"Max Sound:\", max_sound)\n",
        "print(\"Min Sound:\", min_sound)\n",
        "print(\"Max Light:\", max_light)\n",
        "print(\"Min Light:\", min_light)\n",
        "print(\"Date and Time when occupancy was Maximum:\", max_occupancy_date_time)\n",
        "print(\"Most suitable Temperature for High Occupancy:\", suitable_temperature)\n",
        "print(\"Suitable CO2 Range:\", suitable_co2_range)\n",
        "print(\"Unsuitable CO2 Range:\", unsuitable_co2_range)\n",
        "\n"
      ]
    }
  ]
}